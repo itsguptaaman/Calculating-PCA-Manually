{
 "cells": [
  {
   "cell_type": "markdown",
   "id": "654270aa",
   "metadata": {},
   "source": [
    "### Calculating PCA manually using Python"
   ]
  },
  {
   "cell_type": "code",
   "execution_count": 1,
   "id": "a2edda6a",
   "metadata": {},
   "outputs": [],
   "source": [
    "import numpy as np\n",
    "import pandas as pd"
   ]
  },
  {
   "cell_type": "code",
   "execution_count": 2,
   "id": "c39e9db7",
   "metadata": {},
   "outputs": [],
   "source": [
    "# Creating an array\n",
    "A=np.array([\n",
    "    [3,7],\n",
    "    [-4,-6],\n",
    "    [7,8],\n",
    "    [1,-1],\n",
    "    [-4,-1],\n",
    "    [-3,-7],\n",
    "])"
   ]
  },
  {
   "cell_type": "code",
   "execution_count": 3,
   "id": "4abf963c",
   "metadata": {
    "scrolled": true
   },
   "outputs": [
    {
     "data": {
      "text/plain": [
       "array([[ 3,  7],\n",
       "       [-4, -6],\n",
       "       [ 7,  8],\n",
       "       [ 1, -1],\n",
       "       [-4, -1],\n",
       "       [-3, -7]])"
      ]
     },
     "execution_count": 3,
     "metadata": {},
     "output_type": "execute_result"
    }
   ],
   "source": [
    "A"
   ]
  },
  {
   "cell_type": "code",
   "execution_count": 4,
   "id": "c791b519",
   "metadata": {},
   "outputs": [
    {
     "data": {
      "text/plain": [
       "0.0"
      ]
     },
     "execution_count": 4,
     "metadata": {},
     "output_type": "execute_result"
    }
   ],
   "source": [
    "# Calculating the mean\n",
    "(3-4+7+1-4-3)/6"
   ]
  },
  {
   "cell_type": "code",
   "execution_count": 5,
   "id": "c527cfbc",
   "metadata": {},
   "outputs": [
    {
     "data": {
      "text/plain": [
       "(6, 2)"
      ]
     },
     "execution_count": 5,
     "metadata": {},
     "output_type": "execute_result"
    }
   ],
   "source": [
    "A.shape"
   ]
  },
  {
   "cell_type": "code",
   "execution_count": 6,
   "id": "5ff79c0e",
   "metadata": {},
   "outputs": [
    {
     "data": {
      "text/html": [
       "<div>\n",
       "<style scoped>\n",
       "    .dataframe tbody tr th:only-of-type {\n",
       "        vertical-align: middle;\n",
       "    }\n",
       "\n",
       "    .dataframe tbody tr th {\n",
       "        vertical-align: top;\n",
       "    }\n",
       "\n",
       "    .dataframe thead th {\n",
       "        text-align: right;\n",
       "    }\n",
       "</style>\n",
       "<table border=\"1\" class=\"dataframe\">\n",
       "  <thead>\n",
       "    <tr style=\"text-align: right;\">\n",
       "      <th></th>\n",
       "      <th>A0</th>\n",
       "      <th>A1</th>\n",
       "    </tr>\n",
       "  </thead>\n",
       "  <tbody>\n",
       "    <tr>\n",
       "      <th>0</th>\n",
       "      <td>3</td>\n",
       "      <td>7</td>\n",
       "    </tr>\n",
       "    <tr>\n",
       "      <th>1</th>\n",
       "      <td>-4</td>\n",
       "      <td>-6</td>\n",
       "    </tr>\n",
       "    <tr>\n",
       "      <th>2</th>\n",
       "      <td>7</td>\n",
       "      <td>8</td>\n",
       "    </tr>\n",
       "    <tr>\n",
       "      <th>3</th>\n",
       "      <td>1</td>\n",
       "      <td>-1</td>\n",
       "    </tr>\n",
       "    <tr>\n",
       "      <th>4</th>\n",
       "      <td>-4</td>\n",
       "      <td>-1</td>\n",
       "    </tr>\n",
       "    <tr>\n",
       "      <th>5</th>\n",
       "      <td>-3</td>\n",
       "      <td>-7</td>\n",
       "    </tr>\n",
       "  </tbody>\n",
       "</table>\n",
       "</div>"
      ],
      "text/plain": [
       "   A0  A1\n",
       "0   3   7\n",
       "1  -4  -6\n",
       "2   7   8\n",
       "3   1  -1\n",
       "4  -4  -1\n",
       "5  -3  -7"
      ]
     },
     "execution_count": 6,
     "metadata": {},
     "output_type": "execute_result"
    }
   ],
   "source": [
    "# Converting into a data frame\n",
    "df=pd.DataFrame(A,columns=['A0','A1'])\n",
    "df"
   ]
  },
  {
   "cell_type": "code",
   "execution_count": 7,
   "id": "dc36eabd",
   "metadata": {},
   "outputs": [
    {
     "data": {
      "text/plain": [
       "0.0"
      ]
     },
     "execution_count": 7,
     "metadata": {},
     "output_type": "execute_result"
    }
   ],
   "source": [
    "df['A1'].mean()"
   ]
  },
  {
   "cell_type": "code",
   "execution_count": 8,
   "id": "5774c0d4",
   "metadata": {},
   "outputs": [
    {
     "data": {
      "text/plain": [
       "0.0"
      ]
     },
     "execution_count": 8,
     "metadata": {},
     "output_type": "execute_result"
    }
   ],
   "source": [
    "df['A0'].mean()"
   ]
  },
  {
   "cell_type": "code",
   "execution_count": 9,
   "id": "ea236431",
   "metadata": {},
   "outputs": [
    {
     "data": {
      "text/plain": [
       "A0    4.082483\n",
       "A1    5.773503\n",
       "dtype: float64"
      ]
     },
     "execution_count": 9,
     "metadata": {},
     "output_type": "execute_result"
    }
   ],
   "source": [
    "np.std(df)"
   ]
  },
  {
   "cell_type": "code",
   "execution_count": 10,
   "id": "c3505441",
   "metadata": {},
   "outputs": [],
   "source": [
    "a0=A[:,0]\n",
    "a1=A[:,1]"
   ]
  },
  {
   "cell_type": "code",
   "execution_count": 11,
   "id": "5c9a3dcb",
   "metadata": {},
   "outputs": [
    {
     "data": {
      "text/plain": [
       "array([ 3, -4,  7,  1, -4, -3])"
      ]
     },
     "execution_count": 11,
     "metadata": {},
     "output_type": "execute_result"
    }
   ],
   "source": [
    "a0"
   ]
  },
  {
   "cell_type": "code",
   "execution_count": 12,
   "id": "ea5a7f2a",
   "metadata": {},
   "outputs": [
    {
     "data": {
      "text/plain": [
       "array([ 7, -6,  8, -1, -1, -7])"
      ]
     },
     "execution_count": 12,
     "metadata": {},
     "output_type": "execute_result"
    }
   ],
   "source": [
    "a1"
   ]
  },
  {
   "cell_type": "code",
   "execution_count": 13,
   "id": "b23f370e",
   "metadata": {},
   "outputs": [
    {
     "data": {
      "text/plain": [
       "array([[20., 25.],\n",
       "       [25., 40.]])"
      ]
     },
     "execution_count": 13,
     "metadata": {},
     "output_type": "execute_result"
    }
   ],
   "source": [
    "np.cov(a0,a1)"
   ]
  },
  {
   "cell_type": "code",
   "execution_count": 14,
   "id": "5fac8ee9",
   "metadata": {},
   "outputs": [
    {
     "data": {
      "text/plain": [
       "25.0"
      ]
     },
     "execution_count": 14,
     "metadata": {},
     "output_type": "execute_result"
    }
   ],
   "source": [
    "np.sum(a0*a1)/5"
   ]
  },
  {
   "cell_type": "code",
   "execution_count": 15,
   "id": "ee291453",
   "metadata": {},
   "outputs": [
    {
     "data": {
      "text/html": [
       "<div>\n",
       "<style scoped>\n",
       "    .dataframe tbody tr th:only-of-type {\n",
       "        vertical-align: middle;\n",
       "    }\n",
       "\n",
       "    .dataframe tbody tr th {\n",
       "        vertical-align: top;\n",
       "    }\n",
       "\n",
       "    .dataframe thead th {\n",
       "        text-align: right;\n",
       "    }\n",
       "</style>\n",
       "<table border=\"1\" class=\"dataframe\">\n",
       "  <thead>\n",
       "    <tr style=\"text-align: right;\">\n",
       "      <th></th>\n",
       "      <th>A0</th>\n",
       "      <th>A1</th>\n",
       "    </tr>\n",
       "  </thead>\n",
       "  <tbody>\n",
       "    <tr>\n",
       "      <th>A0</th>\n",
       "      <td>20.0</td>\n",
       "      <td>25.0</td>\n",
       "    </tr>\n",
       "    <tr>\n",
       "      <th>A1</th>\n",
       "      <td>25.0</td>\n",
       "      <td>40.0</td>\n",
       "    </tr>\n",
       "  </tbody>\n",
       "</table>\n",
       "</div>"
      ],
      "text/plain": [
       "      A0    A1\n",
       "A0  20.0  25.0\n",
       "A1  25.0  40.0"
      ]
     },
     "execution_count": 15,
     "metadata": {},
     "output_type": "execute_result"
    }
   ],
   "source": [
    "df.cov()"
   ]
  },
  {
   "cell_type": "code",
   "execution_count": 16,
   "id": "f64f187a",
   "metadata": {},
   "outputs": [],
   "source": [
    "# @ is for matrix multiplications\n",
    "sigma=A.T @ A/5"
   ]
  },
  {
   "cell_type": "markdown",
   "id": "ae747166",
   "metadata": {},
   "source": [
    "##### Egan vector:- If we can represent two or more column in some other format(axis) then it  is know as  egan vector.\n",
    "\n",
    "* If we can find the value of lambda then we can represent any number of columns in other form \n",
    "     \n",
    "   ### T=λ-V\n",
    "   \n",
    "   "
   ]
  },
  {
   "cell_type": "code",
   "execution_count": 17,
   "id": "eb9f91c0",
   "metadata": {},
   "outputs": [
    {
     "name": "stdout",
     "output_type": "stream",
     "text": [
      "[ 3.07417596 56.92582404] \n",
      " [[-0.82806723 -0.56062881]\n",
      " [ 0.56062881 -0.82806723]]\n"
     ]
    }
   ],
   "source": [
    "# Egan vector\n",
    "# We are getting  2 lambda we go for higher one to calculate PC1\n",
    "l,x=np.linalg.eig(sigma)\n",
    "print(l,\"\\n\",x)"
   ]
  },
  {
   "cell_type": "code",
   "execution_count": 18,
   "id": "c9e96816",
   "metadata": {},
   "outputs": [
    {
     "data": {
      "text/plain": [
       "array([ 3.07417596, 56.92582404])"
      ]
     },
     "execution_count": 18,
     "metadata": {},
     "output_type": "execute_result"
    }
   ],
   "source": [
    "l"
   ]
  },
  {
   "cell_type": "code",
   "execution_count": 19,
   "id": "fc4c3b1c",
   "metadata": {},
   "outputs": [
    {
     "data": {
      "text/plain": [
       "array([[-0.82806723, -0.56062881],\n",
       "       [ 0.56062881, -0.82806723]])"
      ]
     },
     "execution_count": 19,
     "metadata": {},
     "output_type": "execute_result"
    }
   ],
   "source": [
    "x"
   ]
  },
  {
   "cell_type": "code",
   "execution_count": 20,
   "id": "3a1fd8eb",
   "metadata": {},
   "outputs": [
    {
     "data": {
      "text/plain": [
       "array([-2.54562438,  1.72347161])"
      ]
     },
     "execution_count": 20,
     "metadata": {},
     "output_type": "execute_result"
    }
   ],
   "source": [
    "sigma@x[:,0]"
   ]
  },
  {
   "cell_type": "code",
   "execution_count": 21,
   "id": "f10fdb94",
   "metadata": {},
   "outputs": [
    {
     "data": {
      "text/plain": [
       "array([-31.91425695, -47.13840945])"
      ]
     },
     "execution_count": 21,
     "metadata": {},
     "output_type": "execute_result"
    }
   ],
   "source": [
    "sigma@x[:,1]"
   ]
  },
  {
   "cell_type": "code",
   "execution_count": 22,
   "id": "dfd6f23e",
   "metadata": {},
   "outputs": [
    {
     "name": "stdout",
     "output_type": "stream",
     "text": [
      "First principal component\n"
     ]
    },
    {
     "data": {
      "text/plain": [
       "array([-0.56062881, -0.82806723])"
      ]
     },
     "execution_count": 22,
     "metadata": {},
     "output_type": "execute_result"
    }
   ],
   "source": [
    "print(\"First principal component\")\n",
    "x[:,1]"
   ]
  },
  {
   "cell_type": "code",
   "execution_count": 23,
   "id": "97ad8980",
   "metadata": {},
   "outputs": [
    {
     "name": "stdout",
     "output_type": "stream",
     "text": [
      "First principal component\n"
     ]
    },
    {
     "data": {
      "text/plain": [
       "array([-0.82806723,  0.56062881])"
      ]
     },
     "execution_count": 23,
     "metadata": {},
     "output_type": "execute_result"
    }
   ],
   "source": [
    "print(\"First principal component\")\n",
    "x[:,0]"
   ]
  },
  {
   "cell_type": "code",
   "execution_count": 24,
   "id": "701be565",
   "metadata": {},
   "outputs": [],
   "source": [
    "PC1_arr=A @ x[:,1]"
   ]
  },
  {
   "cell_type": "code",
   "execution_count": 25,
   "id": "805d171e",
   "metadata": {},
   "outputs": [
    {
     "data": {
      "text/plain": [
       "array([ -7.47835704,   7.21091862, -10.54893951,   0.26743842,\n",
       "         3.07058247,   7.47835704])"
      ]
     },
     "execution_count": 25,
     "metadata": {},
     "output_type": "execute_result"
    }
   ],
   "source": [
    "PC1_arr"
   ]
  },
  {
   "cell_type": "code",
   "execution_count": 26,
   "id": "5560840f",
   "metadata": {},
   "outputs": [],
   "source": [
    "PC2_arr=A @ x[:,0]"
   ]
  },
  {
   "cell_type": "code",
   "execution_count": 27,
   "id": "4bb257d0",
   "metadata": {},
   "outputs": [
    {
     "data": {
      "text/plain": [
       "array([ 1.44019997, -0.05150393, -1.31144014, -1.38869604,  2.75164011,\n",
       "       -1.44019997])"
      ]
     },
     "execution_count": 27,
     "metadata": {},
     "output_type": "execute_result"
    }
   ],
   "source": [
    "PC2_arr"
   ]
  },
  {
   "cell_type": "code",
   "execution_count": null,
   "id": "727e7a8f",
   "metadata": {},
   "outputs": [],
   "source": []
  },
  {
   "cell_type": "code",
   "execution_count": 28,
   "id": "5c9cecf9",
   "metadata": {},
   "outputs": [],
   "source": [
    "df=pd.read_csv(r\"C:\\Users\\Aman\\Downloads\\glass_data.csv\")"
   ]
  },
  {
   "cell_type": "code",
   "execution_count": 29,
   "id": "5933588e",
   "metadata": {},
   "outputs": [],
   "source": [
    "df.columns=[\"Index\",\"RL\",\"Na\",\"Mg\",\"AL\",\"Si\",\"K\",\"Ca\",\"Ba\",\"Fe\",\"Class\"]"
   ]
  },
  {
   "cell_type": "code",
   "execution_count": 30,
   "id": "34b891ab",
   "metadata": {},
   "outputs": [
    {
     "data": {
      "text/plain": [
       "Index(['Index', 'RL', 'Na', 'Mg', 'AL', 'Si', 'K', 'Ca', 'Ba', 'Fe', 'Class'], dtype='object')"
      ]
     },
     "execution_count": 30,
     "metadata": {},
     "output_type": "execute_result"
    }
   ],
   "source": [
    "df.columns"
   ]
  },
  {
   "cell_type": "code",
   "execution_count": 31,
   "id": "64448281",
   "metadata": {},
   "outputs": [
    {
     "data": {
      "text/html": [
       "<div>\n",
       "<style scoped>\n",
       "    .dataframe tbody tr th:only-of-type {\n",
       "        vertical-align: middle;\n",
       "    }\n",
       "\n",
       "    .dataframe tbody tr th {\n",
       "        vertical-align: top;\n",
       "    }\n",
       "\n",
       "    .dataframe thead th {\n",
       "        text-align: right;\n",
       "    }\n",
       "</style>\n",
       "<table border=\"1\" class=\"dataframe\">\n",
       "  <thead>\n",
       "    <tr style=\"text-align: right;\">\n",
       "      <th></th>\n",
       "      <th>Index</th>\n",
       "      <th>RL</th>\n",
       "      <th>Na</th>\n",
       "      <th>Mg</th>\n",
       "      <th>AL</th>\n",
       "      <th>Si</th>\n",
       "      <th>K</th>\n",
       "      <th>Ca</th>\n",
       "      <th>Ba</th>\n",
       "      <th>Fe</th>\n",
       "      <th>Class</th>\n",
       "    </tr>\n",
       "  </thead>\n",
       "  <tbody>\n",
       "    <tr>\n",
       "      <th>0</th>\n",
       "      <td>1</td>\n",
       "      <td>1.52101</td>\n",
       "      <td>13.64</td>\n",
       "      <td>4.49</td>\n",
       "      <td>1.10</td>\n",
       "      <td>71.78</td>\n",
       "      <td>0.06</td>\n",
       "      <td>8.75</td>\n",
       "      <td>0.00</td>\n",
       "      <td>0.0</td>\n",
       "      <td>1</td>\n",
       "    </tr>\n",
       "    <tr>\n",
       "      <th>1</th>\n",
       "      <td>2</td>\n",
       "      <td>1.51761</td>\n",
       "      <td>13.89</td>\n",
       "      <td>3.60</td>\n",
       "      <td>1.36</td>\n",
       "      <td>72.73</td>\n",
       "      <td>0.48</td>\n",
       "      <td>7.83</td>\n",
       "      <td>0.00</td>\n",
       "      <td>0.0</td>\n",
       "      <td>1</td>\n",
       "    </tr>\n",
       "    <tr>\n",
       "      <th>2</th>\n",
       "      <td>3</td>\n",
       "      <td>1.51618</td>\n",
       "      <td>13.53</td>\n",
       "      <td>3.55</td>\n",
       "      <td>1.54</td>\n",
       "      <td>72.99</td>\n",
       "      <td>0.39</td>\n",
       "      <td>7.78</td>\n",
       "      <td>0.00</td>\n",
       "      <td>0.0</td>\n",
       "      <td>1</td>\n",
       "    </tr>\n",
       "    <tr>\n",
       "      <th>3</th>\n",
       "      <td>4</td>\n",
       "      <td>1.51766</td>\n",
       "      <td>13.21</td>\n",
       "      <td>3.69</td>\n",
       "      <td>1.29</td>\n",
       "      <td>72.61</td>\n",
       "      <td>0.57</td>\n",
       "      <td>8.22</td>\n",
       "      <td>0.00</td>\n",
       "      <td>0.0</td>\n",
       "      <td>1</td>\n",
       "    </tr>\n",
       "    <tr>\n",
       "      <th>4</th>\n",
       "      <td>5</td>\n",
       "      <td>1.51742</td>\n",
       "      <td>13.27</td>\n",
       "      <td>3.62</td>\n",
       "      <td>1.24</td>\n",
       "      <td>73.08</td>\n",
       "      <td>0.55</td>\n",
       "      <td>8.07</td>\n",
       "      <td>0.00</td>\n",
       "      <td>0.0</td>\n",
       "      <td>1</td>\n",
       "    </tr>\n",
       "    <tr>\n",
       "      <th>...</th>\n",
       "      <td>...</td>\n",
       "      <td>...</td>\n",
       "      <td>...</td>\n",
       "      <td>...</td>\n",
       "      <td>...</td>\n",
       "      <td>...</td>\n",
       "      <td>...</td>\n",
       "      <td>...</td>\n",
       "      <td>...</td>\n",
       "      <td>...</td>\n",
       "      <td>...</td>\n",
       "    </tr>\n",
       "    <tr>\n",
       "      <th>209</th>\n",
       "      <td>210</td>\n",
       "      <td>1.51623</td>\n",
       "      <td>14.14</td>\n",
       "      <td>0.00</td>\n",
       "      <td>2.88</td>\n",
       "      <td>72.61</td>\n",
       "      <td>0.08</td>\n",
       "      <td>9.18</td>\n",
       "      <td>1.06</td>\n",
       "      <td>0.0</td>\n",
       "      <td>7</td>\n",
       "    </tr>\n",
       "    <tr>\n",
       "      <th>210</th>\n",
       "      <td>211</td>\n",
       "      <td>1.51685</td>\n",
       "      <td>14.92</td>\n",
       "      <td>0.00</td>\n",
       "      <td>1.99</td>\n",
       "      <td>73.06</td>\n",
       "      <td>0.00</td>\n",
       "      <td>8.40</td>\n",
       "      <td>1.59</td>\n",
       "      <td>0.0</td>\n",
       "      <td>7</td>\n",
       "    </tr>\n",
       "    <tr>\n",
       "      <th>211</th>\n",
       "      <td>212</td>\n",
       "      <td>1.52065</td>\n",
       "      <td>14.36</td>\n",
       "      <td>0.00</td>\n",
       "      <td>2.02</td>\n",
       "      <td>73.42</td>\n",
       "      <td>0.00</td>\n",
       "      <td>8.44</td>\n",
       "      <td>1.64</td>\n",
       "      <td>0.0</td>\n",
       "      <td>7</td>\n",
       "    </tr>\n",
       "    <tr>\n",
       "      <th>212</th>\n",
       "      <td>213</td>\n",
       "      <td>1.51651</td>\n",
       "      <td>14.38</td>\n",
       "      <td>0.00</td>\n",
       "      <td>1.94</td>\n",
       "      <td>73.61</td>\n",
       "      <td>0.00</td>\n",
       "      <td>8.48</td>\n",
       "      <td>1.57</td>\n",
       "      <td>0.0</td>\n",
       "      <td>7</td>\n",
       "    </tr>\n",
       "    <tr>\n",
       "      <th>213</th>\n",
       "      <td>214</td>\n",
       "      <td>1.51711</td>\n",
       "      <td>14.23</td>\n",
       "      <td>0.00</td>\n",
       "      <td>2.08</td>\n",
       "      <td>73.36</td>\n",
       "      <td>0.00</td>\n",
       "      <td>8.62</td>\n",
       "      <td>1.67</td>\n",
       "      <td>0.0</td>\n",
       "      <td>7</td>\n",
       "    </tr>\n",
       "  </tbody>\n",
       "</table>\n",
       "<p>214 rows × 11 columns</p>\n",
       "</div>"
      ],
      "text/plain": [
       "     Index       RL     Na    Mg    AL     Si     K    Ca    Ba   Fe  Class\n",
       "0        1  1.52101  13.64  4.49  1.10  71.78  0.06  8.75  0.00  0.0      1\n",
       "1        2  1.51761  13.89  3.60  1.36  72.73  0.48  7.83  0.00  0.0      1\n",
       "2        3  1.51618  13.53  3.55  1.54  72.99  0.39  7.78  0.00  0.0      1\n",
       "3        4  1.51766  13.21  3.69  1.29  72.61  0.57  8.22  0.00  0.0      1\n",
       "4        5  1.51742  13.27  3.62  1.24  73.08  0.55  8.07  0.00  0.0      1\n",
       "..     ...      ...    ...   ...   ...    ...   ...   ...   ...  ...    ...\n",
       "209    210  1.51623  14.14  0.00  2.88  72.61  0.08  9.18  1.06  0.0      7\n",
       "210    211  1.51685  14.92  0.00  1.99  73.06  0.00  8.40  1.59  0.0      7\n",
       "211    212  1.52065  14.36  0.00  2.02  73.42  0.00  8.44  1.64  0.0      7\n",
       "212    213  1.51651  14.38  0.00  1.94  73.61  0.00  8.48  1.57  0.0      7\n",
       "213    214  1.51711  14.23  0.00  2.08  73.36  0.00  8.62  1.67  0.0      7\n",
       "\n",
       "[214 rows x 11 columns]"
      ]
     },
     "execution_count": 31,
     "metadata": {},
     "output_type": "execute_result"
    }
   ],
   "source": [
    "df"
   ]
  },
  {
   "cell_type": "code",
   "execution_count": 32,
   "id": "3952ac87",
   "metadata": {},
   "outputs": [
    {
     "data": {
      "text/html": [
       "<div>\n",
       "<style scoped>\n",
       "    .dataframe tbody tr th:only-of-type {\n",
       "        vertical-align: middle;\n",
       "    }\n",
       "\n",
       "    .dataframe tbody tr th {\n",
       "        vertical-align: top;\n",
       "    }\n",
       "\n",
       "    .dataframe thead th {\n",
       "        text-align: right;\n",
       "    }\n",
       "</style>\n",
       "<table border=\"1\" class=\"dataframe\">\n",
       "  <thead>\n",
       "    <tr style=\"text-align: right;\">\n",
       "      <th></th>\n",
       "      <th>RL</th>\n",
       "      <th>Na</th>\n",
       "      <th>Mg</th>\n",
       "      <th>AL</th>\n",
       "      <th>Si</th>\n",
       "      <th>K</th>\n",
       "      <th>Ca</th>\n",
       "      <th>Ba</th>\n",
       "      <th>Fe</th>\n",
       "    </tr>\n",
       "  </thead>\n",
       "  <tbody>\n",
       "    <tr>\n",
       "      <th>0</th>\n",
       "      <td>1.52101</td>\n",
       "      <td>13.64</td>\n",
       "      <td>4.49</td>\n",
       "      <td>1.10</td>\n",
       "      <td>71.78</td>\n",
       "      <td>0.06</td>\n",
       "      <td>8.75</td>\n",
       "      <td>0.00</td>\n",
       "      <td>0.0</td>\n",
       "    </tr>\n",
       "    <tr>\n",
       "      <th>1</th>\n",
       "      <td>1.51761</td>\n",
       "      <td>13.89</td>\n",
       "      <td>3.60</td>\n",
       "      <td>1.36</td>\n",
       "      <td>72.73</td>\n",
       "      <td>0.48</td>\n",
       "      <td>7.83</td>\n",
       "      <td>0.00</td>\n",
       "      <td>0.0</td>\n",
       "    </tr>\n",
       "    <tr>\n",
       "      <th>2</th>\n",
       "      <td>1.51618</td>\n",
       "      <td>13.53</td>\n",
       "      <td>3.55</td>\n",
       "      <td>1.54</td>\n",
       "      <td>72.99</td>\n",
       "      <td>0.39</td>\n",
       "      <td>7.78</td>\n",
       "      <td>0.00</td>\n",
       "      <td>0.0</td>\n",
       "    </tr>\n",
       "    <tr>\n",
       "      <th>3</th>\n",
       "      <td>1.51766</td>\n",
       "      <td>13.21</td>\n",
       "      <td>3.69</td>\n",
       "      <td>1.29</td>\n",
       "      <td>72.61</td>\n",
       "      <td>0.57</td>\n",
       "      <td>8.22</td>\n",
       "      <td>0.00</td>\n",
       "      <td>0.0</td>\n",
       "    </tr>\n",
       "    <tr>\n",
       "      <th>4</th>\n",
       "      <td>1.51742</td>\n",
       "      <td>13.27</td>\n",
       "      <td>3.62</td>\n",
       "      <td>1.24</td>\n",
       "      <td>73.08</td>\n",
       "      <td>0.55</td>\n",
       "      <td>8.07</td>\n",
       "      <td>0.00</td>\n",
       "      <td>0.0</td>\n",
       "    </tr>\n",
       "    <tr>\n",
       "      <th>...</th>\n",
       "      <td>...</td>\n",
       "      <td>...</td>\n",
       "      <td>...</td>\n",
       "      <td>...</td>\n",
       "      <td>...</td>\n",
       "      <td>...</td>\n",
       "      <td>...</td>\n",
       "      <td>...</td>\n",
       "      <td>...</td>\n",
       "    </tr>\n",
       "    <tr>\n",
       "      <th>209</th>\n",
       "      <td>1.51623</td>\n",
       "      <td>14.14</td>\n",
       "      <td>0.00</td>\n",
       "      <td>2.88</td>\n",
       "      <td>72.61</td>\n",
       "      <td>0.08</td>\n",
       "      <td>9.18</td>\n",
       "      <td>1.06</td>\n",
       "      <td>0.0</td>\n",
       "    </tr>\n",
       "    <tr>\n",
       "      <th>210</th>\n",
       "      <td>1.51685</td>\n",
       "      <td>14.92</td>\n",
       "      <td>0.00</td>\n",
       "      <td>1.99</td>\n",
       "      <td>73.06</td>\n",
       "      <td>0.00</td>\n",
       "      <td>8.40</td>\n",
       "      <td>1.59</td>\n",
       "      <td>0.0</td>\n",
       "    </tr>\n",
       "    <tr>\n",
       "      <th>211</th>\n",
       "      <td>1.52065</td>\n",
       "      <td>14.36</td>\n",
       "      <td>0.00</td>\n",
       "      <td>2.02</td>\n",
       "      <td>73.42</td>\n",
       "      <td>0.00</td>\n",
       "      <td>8.44</td>\n",
       "      <td>1.64</td>\n",
       "      <td>0.0</td>\n",
       "    </tr>\n",
       "    <tr>\n",
       "      <th>212</th>\n",
       "      <td>1.51651</td>\n",
       "      <td>14.38</td>\n",
       "      <td>0.00</td>\n",
       "      <td>1.94</td>\n",
       "      <td>73.61</td>\n",
       "      <td>0.00</td>\n",
       "      <td>8.48</td>\n",
       "      <td>1.57</td>\n",
       "      <td>0.0</td>\n",
       "    </tr>\n",
       "    <tr>\n",
       "      <th>213</th>\n",
       "      <td>1.51711</td>\n",
       "      <td>14.23</td>\n",
       "      <td>0.00</td>\n",
       "      <td>2.08</td>\n",
       "      <td>73.36</td>\n",
       "      <td>0.00</td>\n",
       "      <td>8.62</td>\n",
       "      <td>1.67</td>\n",
       "      <td>0.0</td>\n",
       "    </tr>\n",
       "  </tbody>\n",
       "</table>\n",
       "<p>214 rows × 9 columns</p>\n",
       "</div>"
      ],
      "text/plain": [
       "          RL     Na    Mg    AL     Si     K    Ca    Ba   Fe\n",
       "0    1.52101  13.64  4.49  1.10  71.78  0.06  8.75  0.00  0.0\n",
       "1    1.51761  13.89  3.60  1.36  72.73  0.48  7.83  0.00  0.0\n",
       "2    1.51618  13.53  3.55  1.54  72.99  0.39  7.78  0.00  0.0\n",
       "3    1.51766  13.21  3.69  1.29  72.61  0.57  8.22  0.00  0.0\n",
       "4    1.51742  13.27  3.62  1.24  73.08  0.55  8.07  0.00  0.0\n",
       "..       ...    ...   ...   ...    ...   ...   ...   ...  ...\n",
       "209  1.51623  14.14  0.00  2.88  72.61  0.08  9.18  1.06  0.0\n",
       "210  1.51685  14.92  0.00  1.99  73.06  0.00  8.40  1.59  0.0\n",
       "211  1.52065  14.36  0.00  2.02  73.42  0.00  8.44  1.64  0.0\n",
       "212  1.51651  14.38  0.00  1.94  73.61  0.00  8.48  1.57  0.0\n",
       "213  1.51711  14.23  0.00  2.08  73.36  0.00  8.62  1.67  0.0\n",
       "\n",
       "[214 rows x 9 columns]"
      ]
     },
     "execution_count": 32,
     "metadata": {},
     "output_type": "execute_result"
    }
   ],
   "source": [
    "df.drop(columns=[\"Index\",\"Class\"])"
   ]
  },
  {
   "cell_type": "code",
   "execution_count": 33,
   "id": "005e9dbd",
   "metadata": {},
   "outputs": [
    {
     "data": {
      "text/html": [
       "<div>\n",
       "<style scoped>\n",
       "    .dataframe tbody tr th:only-of-type {\n",
       "        vertical-align: middle;\n",
       "    }\n",
       "\n",
       "    .dataframe tbody tr th {\n",
       "        vertical-align: top;\n",
       "    }\n",
       "\n",
       "    .dataframe thead th {\n",
       "        text-align: right;\n",
       "    }\n",
       "</style>\n",
       "<table border=\"1\" class=\"dataframe\">\n",
       "  <thead>\n",
       "    <tr style=\"text-align: right;\">\n",
       "      <th></th>\n",
       "      <th>Index</th>\n",
       "      <th>RL</th>\n",
       "      <th>Na</th>\n",
       "      <th>Mg</th>\n",
       "      <th>AL</th>\n",
       "      <th>Si</th>\n",
       "      <th>K</th>\n",
       "      <th>Ca</th>\n",
       "      <th>Ba</th>\n",
       "      <th>Fe</th>\n",
       "      <th>Class</th>\n",
       "    </tr>\n",
       "  </thead>\n",
       "  <tbody>\n",
       "    <tr>\n",
       "      <th>count</th>\n",
       "      <td>214.000000</td>\n",
       "      <td>214.000000</td>\n",
       "      <td>214.000000</td>\n",
       "      <td>214.000000</td>\n",
       "      <td>214.000000</td>\n",
       "      <td>214.000000</td>\n",
       "      <td>214.000000</td>\n",
       "      <td>214.000000</td>\n",
       "      <td>214.000000</td>\n",
       "      <td>214.000000</td>\n",
       "      <td>214.000000</td>\n",
       "    </tr>\n",
       "    <tr>\n",
       "      <th>mean</th>\n",
       "      <td>107.500000</td>\n",
       "      <td>1.518365</td>\n",
       "      <td>13.407850</td>\n",
       "      <td>2.684533</td>\n",
       "      <td>1.444907</td>\n",
       "      <td>72.650935</td>\n",
       "      <td>0.497056</td>\n",
       "      <td>8.956963</td>\n",
       "      <td>0.175047</td>\n",
       "      <td>0.057009</td>\n",
       "      <td>2.780374</td>\n",
       "    </tr>\n",
       "    <tr>\n",
       "      <th>std</th>\n",
       "      <td>61.920648</td>\n",
       "      <td>0.003037</td>\n",
       "      <td>0.816604</td>\n",
       "      <td>1.442408</td>\n",
       "      <td>0.499270</td>\n",
       "      <td>0.774546</td>\n",
       "      <td>0.652192</td>\n",
       "      <td>1.423153</td>\n",
       "      <td>0.497219</td>\n",
       "      <td>0.097439</td>\n",
       "      <td>2.103739</td>\n",
       "    </tr>\n",
       "    <tr>\n",
       "      <th>min</th>\n",
       "      <td>1.000000</td>\n",
       "      <td>1.511150</td>\n",
       "      <td>10.730000</td>\n",
       "      <td>0.000000</td>\n",
       "      <td>0.290000</td>\n",
       "      <td>69.810000</td>\n",
       "      <td>0.000000</td>\n",
       "      <td>5.430000</td>\n",
       "      <td>0.000000</td>\n",
       "      <td>0.000000</td>\n",
       "      <td>1.000000</td>\n",
       "    </tr>\n",
       "    <tr>\n",
       "      <th>25%</th>\n",
       "      <td>54.250000</td>\n",
       "      <td>1.516522</td>\n",
       "      <td>12.907500</td>\n",
       "      <td>2.115000</td>\n",
       "      <td>1.190000</td>\n",
       "      <td>72.280000</td>\n",
       "      <td>0.122500</td>\n",
       "      <td>8.240000</td>\n",
       "      <td>0.000000</td>\n",
       "      <td>0.000000</td>\n",
       "      <td>1.000000</td>\n",
       "    </tr>\n",
       "    <tr>\n",
       "      <th>50%</th>\n",
       "      <td>107.500000</td>\n",
       "      <td>1.517680</td>\n",
       "      <td>13.300000</td>\n",
       "      <td>3.480000</td>\n",
       "      <td>1.360000</td>\n",
       "      <td>72.790000</td>\n",
       "      <td>0.555000</td>\n",
       "      <td>8.600000</td>\n",
       "      <td>0.000000</td>\n",
       "      <td>0.000000</td>\n",
       "      <td>2.000000</td>\n",
       "    </tr>\n",
       "    <tr>\n",
       "      <th>75%</th>\n",
       "      <td>160.750000</td>\n",
       "      <td>1.519157</td>\n",
       "      <td>13.825000</td>\n",
       "      <td>3.600000</td>\n",
       "      <td>1.630000</td>\n",
       "      <td>73.087500</td>\n",
       "      <td>0.610000</td>\n",
       "      <td>9.172500</td>\n",
       "      <td>0.000000</td>\n",
       "      <td>0.100000</td>\n",
       "      <td>3.000000</td>\n",
       "    </tr>\n",
       "    <tr>\n",
       "      <th>max</th>\n",
       "      <td>214.000000</td>\n",
       "      <td>1.533930</td>\n",
       "      <td>17.380000</td>\n",
       "      <td>4.490000</td>\n",
       "      <td>3.500000</td>\n",
       "      <td>75.410000</td>\n",
       "      <td>6.210000</td>\n",
       "      <td>16.190000</td>\n",
       "      <td>3.150000</td>\n",
       "      <td>0.510000</td>\n",
       "      <td>7.000000</td>\n",
       "    </tr>\n",
       "  </tbody>\n",
       "</table>\n",
       "</div>"
      ],
      "text/plain": [
       "            Index          RL          Na          Mg          AL          Si  \\\n",
       "count  214.000000  214.000000  214.000000  214.000000  214.000000  214.000000   \n",
       "mean   107.500000    1.518365   13.407850    2.684533    1.444907   72.650935   \n",
       "std     61.920648    0.003037    0.816604    1.442408    0.499270    0.774546   \n",
       "min      1.000000    1.511150   10.730000    0.000000    0.290000   69.810000   \n",
       "25%     54.250000    1.516522   12.907500    2.115000    1.190000   72.280000   \n",
       "50%    107.500000    1.517680   13.300000    3.480000    1.360000   72.790000   \n",
       "75%    160.750000    1.519157   13.825000    3.600000    1.630000   73.087500   \n",
       "max    214.000000    1.533930   17.380000    4.490000    3.500000   75.410000   \n",
       "\n",
       "                K          Ca          Ba          Fe       Class  \n",
       "count  214.000000  214.000000  214.000000  214.000000  214.000000  \n",
       "mean     0.497056    8.956963    0.175047    0.057009    2.780374  \n",
       "std      0.652192    1.423153    0.497219    0.097439    2.103739  \n",
       "min      0.000000    5.430000    0.000000    0.000000    1.000000  \n",
       "25%      0.122500    8.240000    0.000000    0.000000    1.000000  \n",
       "50%      0.555000    8.600000    0.000000    0.000000    2.000000  \n",
       "75%      0.610000    9.172500    0.000000    0.100000    3.000000  \n",
       "max      6.210000   16.190000    3.150000    0.510000    7.000000  "
      ]
     },
     "execution_count": 33,
     "metadata": {},
     "output_type": "execute_result"
    }
   ],
   "source": [
    "df.describe()"
   ]
  },
  {
   "cell_type": "code",
   "execution_count": 34,
   "id": "b1ea0d8a",
   "metadata": {},
   "outputs": [],
   "source": [
    "from sklearn.preprocessing import StandardScaler"
   ]
  },
  {
   "cell_type": "code",
   "execution_count": 35,
   "id": "4485ef6d",
   "metadata": {},
   "outputs": [],
   "source": [
    "scale=StandardScaler()"
   ]
  },
  {
   "cell_type": "code",
   "execution_count": 36,
   "id": "df369f57",
   "metadata": {},
   "outputs": [
    {
     "data": {
      "text/html": [
       "<div>\n",
       "<style scoped>\n",
       "    .dataframe tbody tr th:only-of-type {\n",
       "        vertical-align: middle;\n",
       "    }\n",
       "\n",
       "    .dataframe tbody tr th {\n",
       "        vertical-align: top;\n",
       "    }\n",
       "\n",
       "    .dataframe thead th {\n",
       "        text-align: right;\n",
       "    }\n",
       "</style>\n",
       "<table border=\"1\" class=\"dataframe\">\n",
       "  <thead>\n",
       "    <tr style=\"text-align: right;\">\n",
       "      <th></th>\n",
       "      <th>0</th>\n",
       "      <th>1</th>\n",
       "      <th>2</th>\n",
       "      <th>3</th>\n",
       "      <th>4</th>\n",
       "      <th>5</th>\n",
       "      <th>6</th>\n",
       "      <th>7</th>\n",
       "      <th>8</th>\n",
       "      <th>9</th>\n",
       "      <th>10</th>\n",
       "    </tr>\n",
       "  </thead>\n",
       "  <tbody>\n",
       "    <tr>\n",
       "      <th>0</th>\n",
       "      <td>-1.723976</td>\n",
       "      <td>0.872868</td>\n",
       "      <td>0.284953</td>\n",
       "      <td>1.254639</td>\n",
       "      <td>-0.692442</td>\n",
       "      <td>-1.127082</td>\n",
       "      <td>-0.671705</td>\n",
       "      <td>-0.145766</td>\n",
       "      <td>-0.352877</td>\n",
       "      <td>-0.586451</td>\n",
       "      <td>-0.848275</td>\n",
       "    </tr>\n",
       "    <tr>\n",
       "      <th>1</th>\n",
       "      <td>-1.707788</td>\n",
       "      <td>-0.249333</td>\n",
       "      <td>0.591817</td>\n",
       "      <td>0.636168</td>\n",
       "      <td>-0.170460</td>\n",
       "      <td>0.102319</td>\n",
       "      <td>-0.026213</td>\n",
       "      <td>-0.793734</td>\n",
       "      <td>-0.352877</td>\n",
       "      <td>-0.586451</td>\n",
       "      <td>-0.848275</td>\n",
       "    </tr>\n",
       "    <tr>\n",
       "      <th>2</th>\n",
       "      <td>-1.691601</td>\n",
       "      <td>-0.721318</td>\n",
       "      <td>0.149933</td>\n",
       "      <td>0.601422</td>\n",
       "      <td>0.190912</td>\n",
       "      <td>0.438787</td>\n",
       "      <td>-0.164533</td>\n",
       "      <td>-0.828949</td>\n",
       "      <td>-0.352877</td>\n",
       "      <td>-0.586451</td>\n",
       "      <td>-0.848275</td>\n",
       "    </tr>\n",
       "    <tr>\n",
       "      <th>3</th>\n",
       "      <td>-1.675413</td>\n",
       "      <td>-0.232831</td>\n",
       "      <td>-0.242853</td>\n",
       "      <td>0.698710</td>\n",
       "      <td>-0.310994</td>\n",
       "      <td>-0.052974</td>\n",
       "      <td>0.112107</td>\n",
       "      <td>-0.519052</td>\n",
       "      <td>-0.352877</td>\n",
       "      <td>-0.586451</td>\n",
       "      <td>-0.848275</td>\n",
       "    </tr>\n",
       "    <tr>\n",
       "      <th>4</th>\n",
       "      <td>-1.659226</td>\n",
       "      <td>-0.312045</td>\n",
       "      <td>-0.169205</td>\n",
       "      <td>0.650066</td>\n",
       "      <td>-0.411375</td>\n",
       "      <td>0.555256</td>\n",
       "      <td>0.081369</td>\n",
       "      <td>-0.624699</td>\n",
       "      <td>-0.352877</td>\n",
       "      <td>-0.586451</td>\n",
       "      <td>-0.848275</td>\n",
       "    </tr>\n",
       "    <tr>\n",
       "      <th>...</th>\n",
       "      <td>...</td>\n",
       "      <td>...</td>\n",
       "      <td>...</td>\n",
       "      <td>...</td>\n",
       "      <td>...</td>\n",
       "      <td>...</td>\n",
       "      <td>...</td>\n",
       "      <td>...</td>\n",
       "      <td>...</td>\n",
       "      <td>...</td>\n",
       "      <td>...</td>\n",
       "    </tr>\n",
       "    <tr>\n",
       "      <th>209</th>\n",
       "      <td>1.659226</td>\n",
       "      <td>-0.704815</td>\n",
       "      <td>0.898681</td>\n",
       "      <td>-1.865511</td>\n",
       "      <td>2.881125</td>\n",
       "      <td>-0.052974</td>\n",
       "      <td>-0.640968</td>\n",
       "      <td>0.157088</td>\n",
       "      <td>1.783978</td>\n",
       "      <td>-0.586451</td>\n",
       "      <td>2.010478</td>\n",
       "    </tr>\n",
       "    <tr>\n",
       "      <th>210</th>\n",
       "      <td>1.675413</td>\n",
       "      <td>-0.500178</td>\n",
       "      <td>1.856097</td>\n",
       "      <td>-1.865511</td>\n",
       "      <td>1.094342</td>\n",
       "      <td>0.529374</td>\n",
       "      <td>-0.763919</td>\n",
       "      <td>-0.392276</td>\n",
       "      <td>2.852405</td>\n",
       "      <td>-0.586451</td>\n",
       "      <td>2.010478</td>\n",
       "    </tr>\n",
       "    <tr>\n",
       "      <th>211</th>\n",
       "      <td>1.691601</td>\n",
       "      <td>0.754046</td>\n",
       "      <td>1.168721</td>\n",
       "      <td>-1.865511</td>\n",
       "      <td>1.154570</td>\n",
       "      <td>0.995252</td>\n",
       "      <td>-0.763919</td>\n",
       "      <td>-0.364103</td>\n",
       "      <td>2.953200</td>\n",
       "      <td>-0.586451</td>\n",
       "      <td>2.010478</td>\n",
       "    </tr>\n",
       "    <tr>\n",
       "      <th>212</th>\n",
       "      <td>1.707788</td>\n",
       "      <td>-0.612399</td>\n",
       "      <td>1.193270</td>\n",
       "      <td>-1.865511</td>\n",
       "      <td>0.993960</td>\n",
       "      <td>1.241133</td>\n",
       "      <td>-0.763919</td>\n",
       "      <td>-0.335931</td>\n",
       "      <td>2.812087</td>\n",
       "      <td>-0.586451</td>\n",
       "      <td>2.010478</td>\n",
       "    </tr>\n",
       "    <tr>\n",
       "      <th>213</th>\n",
       "      <td>1.723976</td>\n",
       "      <td>-0.414363</td>\n",
       "      <td>1.009152</td>\n",
       "      <td>-1.865511</td>\n",
       "      <td>1.275028</td>\n",
       "      <td>0.917606</td>\n",
       "      <td>-0.763919</td>\n",
       "      <td>-0.237327</td>\n",
       "      <td>3.013677</td>\n",
       "      <td>-0.586451</td>\n",
       "      <td>2.010478</td>\n",
       "    </tr>\n",
       "  </tbody>\n",
       "</table>\n",
       "<p>214 rows × 11 columns</p>\n",
       "</div>"
      ],
      "text/plain": [
       "           0         1         2         3         4         5         6   \\\n",
       "0   -1.723976  0.872868  0.284953  1.254639 -0.692442 -1.127082 -0.671705   \n",
       "1   -1.707788 -0.249333  0.591817  0.636168 -0.170460  0.102319 -0.026213   \n",
       "2   -1.691601 -0.721318  0.149933  0.601422  0.190912  0.438787 -0.164533   \n",
       "3   -1.675413 -0.232831 -0.242853  0.698710 -0.310994 -0.052974  0.112107   \n",
       "4   -1.659226 -0.312045 -0.169205  0.650066 -0.411375  0.555256  0.081369   \n",
       "..        ...       ...       ...       ...       ...       ...       ...   \n",
       "209  1.659226 -0.704815  0.898681 -1.865511  2.881125 -0.052974 -0.640968   \n",
       "210  1.675413 -0.500178  1.856097 -1.865511  1.094342  0.529374 -0.763919   \n",
       "211  1.691601  0.754046  1.168721 -1.865511  1.154570  0.995252 -0.763919   \n",
       "212  1.707788 -0.612399  1.193270 -1.865511  0.993960  1.241133 -0.763919   \n",
       "213  1.723976 -0.414363  1.009152 -1.865511  1.275028  0.917606 -0.763919   \n",
       "\n",
       "           7         8         9         10  \n",
       "0   -0.145766 -0.352877 -0.586451 -0.848275  \n",
       "1   -0.793734 -0.352877 -0.586451 -0.848275  \n",
       "2   -0.828949 -0.352877 -0.586451 -0.848275  \n",
       "3   -0.519052 -0.352877 -0.586451 -0.848275  \n",
       "4   -0.624699 -0.352877 -0.586451 -0.848275  \n",
       "..        ...       ...       ...       ...  \n",
       "209  0.157088  1.783978 -0.586451  2.010478  \n",
       "210 -0.392276  2.852405 -0.586451  2.010478  \n",
       "211 -0.364103  2.953200 -0.586451  2.010478  \n",
       "212 -0.335931  2.812087 -0.586451  2.010478  \n",
       "213 -0.237327  3.013677 -0.586451  2.010478  \n",
       "\n",
       "[214 rows x 11 columns]"
      ]
     },
     "execution_count": 36,
     "metadata": {},
     "output_type": "execute_result"
    }
   ],
   "source": [
    "df2=pd.DataFrame(scale.fit_transform(df))\n",
    "df2"
   ]
  },
  {
   "cell_type": "code",
   "execution_count": 37,
   "id": "5c8fe453",
   "metadata": {},
   "outputs": [
    {
     "data": {
      "text/html": [
       "<div>\n",
       "<style scoped>\n",
       "    .dataframe tbody tr th:only-of-type {\n",
       "        vertical-align: middle;\n",
       "    }\n",
       "\n",
       "    .dataframe tbody tr th {\n",
       "        vertical-align: top;\n",
       "    }\n",
       "\n",
       "    .dataframe thead th {\n",
       "        text-align: right;\n",
       "    }\n",
       "</style>\n",
       "<table border=\"1\" class=\"dataframe\">\n",
       "  <thead>\n",
       "    <tr style=\"text-align: right;\">\n",
       "      <th></th>\n",
       "      <th>0</th>\n",
       "      <th>1</th>\n",
       "      <th>2</th>\n",
       "      <th>3</th>\n",
       "      <th>4</th>\n",
       "      <th>5</th>\n",
       "      <th>6</th>\n",
       "      <th>7</th>\n",
       "      <th>8</th>\n",
       "      <th>9</th>\n",
       "      <th>10</th>\n",
       "    </tr>\n",
       "  </thead>\n",
       "  <tbody>\n",
       "    <tr>\n",
       "      <th>count</th>\n",
       "      <td>2.140000e+02</td>\n",
       "      <td>2.140000e+02</td>\n",
       "      <td>2.140000e+02</td>\n",
       "      <td>2.140000e+02</td>\n",
       "      <td>2.140000e+02</td>\n",
       "      <td>2.140000e+02</td>\n",
       "      <td>2.140000e+02</td>\n",
       "      <td>2.140000e+02</td>\n",
       "      <td>2.140000e+02</td>\n",
       "      <td>2.140000e+02</td>\n",
       "      <td>2.140000e+02</td>\n",
       "    </tr>\n",
       "    <tr>\n",
       "      <th>mean</th>\n",
       "      <td>2.075183e-18</td>\n",
       "      <td>-2.877449e-14</td>\n",
       "      <td>2.179980e-15</td>\n",
       "      <td>-2.801497e-16</td>\n",
       "      <td>-3.434428e-16</td>\n",
       "      <td>9.966067e-16</td>\n",
       "      <td>7.470660e-17</td>\n",
       "      <td>-3.137418e-16</td>\n",
       "      <td>-1.763906e-16</td>\n",
       "      <td>-6.121791e-17</td>\n",
       "      <td>-1.128900e-15</td>\n",
       "    </tr>\n",
       "    <tr>\n",
       "      <th>std</th>\n",
       "      <td>1.002345e+00</td>\n",
       "      <td>1.002345e+00</td>\n",
       "      <td>1.002345e+00</td>\n",
       "      <td>1.002345e+00</td>\n",
       "      <td>1.002345e+00</td>\n",
       "      <td>1.002345e+00</td>\n",
       "      <td>1.002345e+00</td>\n",
       "      <td>1.002345e+00</td>\n",
       "      <td>1.002345e+00</td>\n",
       "      <td>1.002345e+00</td>\n",
       "      <td>1.002345e+00</td>\n",
       "    </tr>\n",
       "    <tr>\n",
       "      <th>min</th>\n",
       "      <td>-1.723976e+00</td>\n",
       "      <td>-2.381516e+00</td>\n",
       "      <td>-3.286943e+00</td>\n",
       "      <td>-1.865511e+00</td>\n",
       "      <td>-2.318616e+00</td>\n",
       "      <td>-3.676472e+00</td>\n",
       "      <td>-7.639186e-01</td>\n",
       "      <td>-2.484084e+00</td>\n",
       "      <td>-3.528768e-01</td>\n",
       "      <td>-5.864509e-01</td>\n",
       "      <td>-8.482747e-01</td>\n",
       "    </tr>\n",
       "    <tr>\n",
       "      <th>25%</th>\n",
       "      <td>-8.619880e-01</td>\n",
       "      <td>-6.082728e-01</td>\n",
       "      <td>-6.141580e-01</td>\n",
       "      <td>-3.957744e-01</td>\n",
       "      <td>-5.117560e-01</td>\n",
       "      <td>-4.800288e-01</td>\n",
       "      <td>-5.756501e-01</td>\n",
       "      <td>-5.049657e-01</td>\n",
       "      <td>-3.528768e-01</td>\n",
       "      <td>-5.864509e-01</td>\n",
       "      <td>-8.482747e-01</td>\n",
       "    </tr>\n",
       "    <tr>\n",
       "      <th>50%</th>\n",
       "      <td>0.000000e+00</td>\n",
       "      <td>-2.262293e-01</td>\n",
       "      <td>-1.323817e-01</td>\n",
       "      <td>5.527787e-01</td>\n",
       "      <td>-1.704602e-01</td>\n",
       "      <td>1.799655e-01</td>\n",
       "      <td>8.905322e-02</td>\n",
       "      <td>-2.514132e-01</td>\n",
       "      <td>-3.528768e-01</td>\n",
       "      <td>-5.864509e-01</td>\n",
       "      <td>-3.718159e-01</td>\n",
       "    </tr>\n",
       "    <tr>\n",
       "      <th>75%</th>\n",
       "      <td>8.619880e-01</td>\n",
       "      <td>2.614331e-01</td>\n",
       "      <td>5.120326e-01</td>\n",
       "      <td>6.361680e-01</td>\n",
       "      <td>3.715977e-01</td>\n",
       "      <td>5.649621e-01</td>\n",
       "      <td>1.735820e-01</td>\n",
       "      <td>1.518057e-01</td>\n",
       "      <td>-3.528768e-01</td>\n",
       "      <td>4.422417e-01</td>\n",
       "      <td>1.046428e-01</td>\n",
       "    </tr>\n",
       "    <tr>\n",
       "      <th>max</th>\n",
       "      <td>1.723976e+00</td>\n",
       "      <td>5.137232e+00</td>\n",
       "      <td>4.875637e+00</td>\n",
       "      <td>1.254639e+00</td>\n",
       "      <td>4.125851e+00</td>\n",
       "      <td>3.570524e+00</td>\n",
       "      <td>8.780145e+00</td>\n",
       "      <td>5.094318e+00</td>\n",
       "      <td>5.997210e+00</td>\n",
       "      <td>4.659881e+00</td>\n",
       "      <td>2.010478e+00</td>\n",
       "    </tr>\n",
       "  </tbody>\n",
       "</table>\n",
       "</div>"
      ],
      "text/plain": [
       "                 0             1             2             3             4   \\\n",
       "count  2.140000e+02  2.140000e+02  2.140000e+02  2.140000e+02  2.140000e+02   \n",
       "mean   2.075183e-18 -2.877449e-14  2.179980e-15 -2.801497e-16 -3.434428e-16   \n",
       "std    1.002345e+00  1.002345e+00  1.002345e+00  1.002345e+00  1.002345e+00   \n",
       "min   -1.723976e+00 -2.381516e+00 -3.286943e+00 -1.865511e+00 -2.318616e+00   \n",
       "25%   -8.619880e-01 -6.082728e-01 -6.141580e-01 -3.957744e-01 -5.117560e-01   \n",
       "50%    0.000000e+00 -2.262293e-01 -1.323817e-01  5.527787e-01 -1.704602e-01   \n",
       "75%    8.619880e-01  2.614331e-01  5.120326e-01  6.361680e-01  3.715977e-01   \n",
       "max    1.723976e+00  5.137232e+00  4.875637e+00  1.254639e+00  4.125851e+00   \n",
       "\n",
       "                 5             6             7             8             9   \\\n",
       "count  2.140000e+02  2.140000e+02  2.140000e+02  2.140000e+02  2.140000e+02   \n",
       "mean   9.966067e-16  7.470660e-17 -3.137418e-16 -1.763906e-16 -6.121791e-17   \n",
       "std    1.002345e+00  1.002345e+00  1.002345e+00  1.002345e+00  1.002345e+00   \n",
       "min   -3.676472e+00 -7.639186e-01 -2.484084e+00 -3.528768e-01 -5.864509e-01   \n",
       "25%   -4.800288e-01 -5.756501e-01 -5.049657e-01 -3.528768e-01 -5.864509e-01   \n",
       "50%    1.799655e-01  8.905322e-02 -2.514132e-01 -3.528768e-01 -5.864509e-01   \n",
       "75%    5.649621e-01  1.735820e-01  1.518057e-01 -3.528768e-01  4.422417e-01   \n",
       "max    3.570524e+00  8.780145e+00  5.094318e+00  5.997210e+00  4.659881e+00   \n",
       "\n",
       "                 10  \n",
       "count  2.140000e+02  \n",
       "mean  -1.128900e-15  \n",
       "std    1.002345e+00  \n",
       "min   -8.482747e-01  \n",
       "25%   -8.482747e-01  \n",
       "50%   -3.718159e-01  \n",
       "75%    1.046428e-01  \n",
       "max    2.010478e+00  "
      ]
     },
     "execution_count": 37,
     "metadata": {},
     "output_type": "execute_result"
    }
   ],
   "source": [
    "# E to the power is close to 0 \n",
    "df2.describe()"
   ]
  },
  {
   "cell_type": "code",
   "execution_count": 38,
   "id": "d026f982",
   "metadata": {},
   "outputs": [],
   "source": [
    "sigma=np.cov(df2)"
   ]
  },
  {
   "cell_type": "code",
   "execution_count": 39,
   "id": "3a25c5df",
   "metadata": {},
   "outputs": [],
   "source": [
    "sigma=df2.T @ df2/213"
   ]
  },
  {
   "cell_type": "code",
   "execution_count": 40,
   "id": "0f376291",
   "metadata": {},
   "outputs": [],
   "source": [
    "l,x=np.linalg.eig(sigma)"
   ]
  },
  {
   "cell_type": "code",
   "execution_count": 41,
   "id": "18c5ed08",
   "metadata": {},
   "outputs": [
    {
     "data": {
      "text/plain": [
       "array([3.68386022e+00, 2.36576668e+00, 1.41639247e+00, 1.18127362e+00,\n",
       "       9.19100060e-01, 6.09947340e-01, 8.43416417e-02, 5.32141366e-02,\n",
       "       1.57767942e-03, 3.64115108e-01, 3.72054233e-01])"
      ]
     },
     "execution_count": 41,
     "metadata": {},
     "output_type": "execute_result"
    }
   ],
   "source": [
    "l"
   ]
  },
  {
   "cell_type": "code",
   "execution_count": 42,
   "id": "0bd8d29e",
   "metadata": {},
   "outputs": [
    {
     "data": {
      "text/plain": [
       "array([[ 4.38824473e-01, -1.29996803e-01,  1.52963123e-02,\n",
       "         9.09447723e-02,  3.12107487e-02,  3.84355211e-01,\n",
       "        -4.19874901e-01,  2.96414533e-01, -1.39409133e-02,\n",
       "         5.72448277e-01,  2.03170024e-01],\n",
       "       [-1.45563043e-01, -5.94720501e-01,  8.93648161e-02,\n",
       "        -1.51695775e-01, -7.45674537e-02, -7.03775477e-02,\n",
       "         4.76370527e-01,  5.82995233e-01,  2.26431414e-02,\n",
       "         5.71483971e-02,  1.14091943e-01],\n",
       "       [ 2.85277234e-01,  4.05238471e-02, -3.56636312e-01,\n",
       "        -5.32318013e-01,  1.58495648e-01,  3.65376890e-01,\n",
       "        -1.74780402e-02,  1.71789796e-01, -3.14143150e-01,\n",
       "        -4.67146126e-01, -3.27568489e-02],\n",
       "       [-4.01764656e-01,  2.80313654e-01, -1.91558930e-02,\n",
       "        -2.86307560e-01,  1.33560514e-01,  1.66113517e-02,\n",
       "         1.81072627e-01, -4.54189160e-02, -5.75521458e-01,\n",
       "         5.41738482e-01, -6.29168990e-04],\n",
       "       [ 3.80388849e-01,  1.60331732e-01,  3.53452217e-01,\n",
       "         7.39577697e-02,  6.49234361e-03, -1.74769824e-01,\n",
       "         1.02909306e-01,  2.68110410e-01, -1.94543816e-01,\n",
       "         3.50330524e-02, -7.39638470e-01],\n",
       "       [ 7.74886354e-02,  2.55611724e-01, -4.69521528e-01,\n",
       "         6.34814446e-01,  2.89300747e-03, -1.47685462e-01,\n",
       "         1.83088621e-01,  3.34884644e-01, -3.00908926e-01,\n",
       "        -1.04656314e-01,  1.90343514e-01],\n",
       "       [ 2.76707973e-02,  2.67018619e-01,  6.55781451e-01,\n",
       "         6.77658897e-02, -3.06008155e-01,  2.36681990e-01,\n",
       "         6.84129056e-02,  8.38865300e-02, -2.60830773e-01,\n",
       "        -2.82886398e-01,  4.28788782e-01],\n",
       "       [-5.88541624e-02, -6.01191329e-01, -4.53149887e-04,\n",
       "         2.54982529e-01, -1.92302281e-01,  5.25604811e-02,\n",
       "        -2.30489034e-01, -3.27613838e-01, -5.76919097e-01,\n",
       "        -1.15532778e-01, -1.53969534e-01],\n",
       "       [ 3.60162555e-01, -8.19746248e-02,  1.11012936e-01,\n",
       "        -2.29137238e-01,  2.40472070e-01, -7.27270995e-01,\n",
       "        -1.58103646e-01, -6.37076795e-02, -1.99104237e-01,\n",
       "        -8.21530330e-03,  3.78444200e-01],\n",
       "       [-1.17186739e-01, -1.15711621e-01,  2.72259720e-01,\n",
       "         2.65345402e-01,  8.72847207e-01,  2.10429669e-01,\n",
       "         5.56690686e-02, -2.01005870e-02, -1.34710076e-02,\n",
       "        -1.33390241e-01,  2.69101367e-02],\n",
       "       [ 4.95042519e-01, -7.28549010e-02, -4.84341440e-02,\n",
       "         4.90250985e-02, -1.20648616e-02,  1.70884937e-01,\n",
       "         6.58536494e-01, -4.87666869e-01,  1.72131068e-02,\n",
       "         1.84167590e-01,  9.91223346e-02]])"
      ]
     },
     "execution_count": 42,
     "metadata": {},
     "output_type": "execute_result"
    }
   ],
   "source": [
    "x"
   ]
  },
  {
   "cell_type": "code",
   "execution_count": 43,
   "id": "ea3f4203",
   "metadata": {},
   "outputs": [],
   "source": [
    "PC1=df2 @ x[:,0]"
   ]
  },
  {
   "cell_type": "code",
   "execution_count": 44,
   "id": "a52735de",
   "metadata": {},
   "outputs": [
    {
     "data": {
      "text/plain": [
       "(214,)"
      ]
     },
     "execution_count": 44,
     "metadata": {},
     "output_type": "execute_result"
    }
   ],
   "source": [
    "PC1.shape"
   ]
  },
  {
   "cell_type": "code",
   "execution_count": 45,
   "id": "35519d5c",
   "metadata": {},
   "outputs": [],
   "source": [
    "PC2=df2 @ x[:,1]"
   ]
  },
  {
   "cell_type": "code",
   "execution_count": 46,
   "id": "e79fc74a",
   "metadata": {},
   "outputs": [
    {
     "data": {
      "text/plain": [
       "0     -0.264014\n",
       "1      1.200197\n",
       "2      1.579327\n",
       "3      0.979452\n",
       "4      1.208490\n",
       "         ...   \n",
       "209   -0.325086\n",
       "210   -0.337859\n",
       "211   -1.010190\n",
       "212   -0.166917\n",
       "213   -0.407697\n",
       "Length: 214, dtype: float64"
      ]
     },
     "execution_count": 46,
     "metadata": {},
     "output_type": "execute_result"
    }
   ],
   "source": [
    "PC2"
   ]
  },
  {
   "cell_type": "markdown",
   "id": "ffd8a019",
   "metadata": {},
   "source": [
    "#### Verifying our Process"
   ]
  },
  {
   "cell_type": "code",
   "execution_count": 47,
   "id": "125fc8fb",
   "metadata": {},
   "outputs": [],
   "source": [
    "from sklearn.decomposition import PCA"
   ]
  },
  {
   "cell_type": "code",
   "execution_count": 48,
   "id": "c260f522",
   "metadata": {},
   "outputs": [],
   "source": [
    "pca=PCA(n_components=2)"
   ]
  },
  {
   "cell_type": "code",
   "execution_count": 49,
   "id": "79f2e686",
   "metadata": {},
   "outputs": [
    {
     "data": {
      "text/plain": [
       "0     -2.145401\n",
       "1     -1.289108\n",
       "2     -1.163621\n",
       "3     -1.618372\n",
       "4     -1.544870\n",
       "         ...   \n",
       "209    4.607953\n",
       "210    4.637589\n",
       "211    4.359686\n",
       "212    4.478174\n",
       "213    4.552573\n",
       "Length: 214, dtype: float64"
      ]
     },
     "execution_count": 49,
     "metadata": {},
     "output_type": "execute_result"
    }
   ],
   "source": [
    "PC1"
   ]
  },
  {
   "cell_type": "code",
   "execution_count": 50,
   "id": "ff54be06",
   "metadata": {
    "scrolled": true
   },
   "outputs": [
    {
     "data": {
      "text/plain": [
       "array([[-2.14540054e+00,  2.64014297e-01],\n",
       "       [-1.28910765e+00, -1.20019734e+00],\n",
       "       [-1.16362112e+00, -1.57932728e+00],\n",
       "       [-1.61837189e+00, -9.79452339e-01],\n",
       "       [-1.54487020e+00, -1.20849016e+00],\n",
       "       [-1.66334292e+00, -1.28053110e+00],\n",
       "       [-1.59328915e+00, -1.14100295e+00],\n",
       "       [-1.70476414e+00, -1.09477227e+00],\n",
       "       [-1.33032873e+00, -5.02878296e-01],\n",
       "       [-1.66737565e+00, -9.01521637e-01],\n",
       "       [-1.59664725e+00, -1.37079926e+00],\n",
       "       [-1.68327445e+00, -9.36492879e-01],\n",
       "       [-1.63834353e+00, -1.33347870e+00],\n",
       "       [-1.79289994e+00, -8.60631362e-01],\n",
       "       [-1.64869036e+00, -1.02978786e+00],\n",
       "       [-1.61818180e+00, -1.03610463e+00],\n",
       "       [-1.78201259e+00, -8.23224215e-01],\n",
       "       [-1.85472477e+00,  9.14083942e-01],\n",
       "       [-1.53363975e+00, -1.48936960e-02],\n",
       "       [-1.29175026e+00, -9.47625582e-01],\n",
       "       [-1.66338328e+00, -6.73603526e-01],\n",
       "       [-1.93522966e+00,  4.30654894e-01],\n",
       "       [-1.60101588e+00, -8.27838475e-01],\n",
       "       [-1.50193438e+00, -9.42325570e-01],\n",
       "       [-1.42905333e+00, -9.13680827e-01],\n",
       "       [-1.53122680e+00, -9.01248206e-01],\n",
       "       [-1.32253808e+00, -8.04984985e-01],\n",
       "       [-1.42215730e+00, -1.02155291e+00],\n",
       "       [-1.47408958e+00, -9.45664998e-01],\n",
       "       [-1.42449552e+00, -8.21446520e-01],\n",
       "       [-1.71911830e+00, -6.74981188e-01],\n",
       "       [-1.54933238e+00, -9.28615025e-01],\n",
       "       [-1.70610007e+00, -5.37425433e-01],\n",
       "       [-1.49948942e+00, -9.55298114e-01],\n",
       "       [-1.49622908e+00, -7.29910266e-01],\n",
       "       [-1.26342385e+00, -1.12491431e+00],\n",
       "       [-1.17308846e+00, -9.70739026e-02],\n",
       "       [-1.43286704e+00, -7.51808747e-01],\n",
       "       [-2.05660878e+00,  1.19877243e+00],\n",
       "       [-2.04950528e+00,  1.20087676e+00],\n",
       "       [-1.57006718e+00, -6.70743553e-01],\n",
       "       [-1.46898088e+00, -8.40179320e-01],\n",
       "       [-1.23272171e+00, -7.27460888e-01],\n",
       "       [-2.00789176e+00,  1.19358162e+00],\n",
       "       [-1.85640494e+00, -2.94447300e-01],\n",
       "       [-1.28127421e+00, -6.35711866e-02],\n",
       "       [-1.57120741e+00, -1.75694248e-01],\n",
       "       [-2.22584509e+00,  2.39392711e+00],\n",
       "       [-2.07794867e+00,  1.30548342e+00],\n",
       "       [-1.25726298e+00, -9.71330993e-02],\n",
       "       [-2.35193515e+00,  1.87778795e+00],\n",
       "       [-1.45943819e+00,  1.00339164e-01],\n",
       "       [-1.07223647e+00, -3.37819719e-01],\n",
       "       [-1.10416239e+00, -2.73862210e-01],\n",
       "       [-1.12327513e+00, -3.29057927e-01],\n",
       "       [-1.45820896e+00, -3.50539518e-01],\n",
       "       [-1.46246274e+00, -1.55984584e+00],\n",
       "       [-1.29640910e+00, -7.30009894e-01],\n",
       "       [-1.18613799e+00, -1.08617107e+00],\n",
       "       [-1.33639926e+00, -7.63521782e-01],\n",
       "       [-1.29927031e+00, -1.39293535e-01],\n",
       "       [-6.70084609e-01,  3.22341015e-01],\n",
       "       [-1.93385392e+00,  1.12622139e+00],\n",
       "       [-1.71199147e+00,  1.41789878e+00],\n",
       "       [-1.81612250e+00,  1.07863225e+00],\n",
       "       [-1.40627647e+00,  7.66632854e-01],\n",
       "       [-2.04967457e+00,  1.23924362e+00],\n",
       "       [-2.03254322e+00,  1.20826908e+00],\n",
       "       [-1.95550839e+00,  1.20954406e+00],\n",
       "       [-1.89760409e+00,  1.62652719e+00],\n",
       "       [-8.79663749e-02, -1.21192826e+00],\n",
       "       [-1.31017898e+00, -4.01308862e-02],\n",
       "       [-5.78145884e-01, -1.55597385e+00],\n",
       "       [-4.86093090e-01, -1.37780228e+00],\n",
       "       [-5.66015011e-01, -1.53717533e+00],\n",
       "       [-5.87283090e-01, -1.50667885e+00],\n",
       "       [-5.22380817e-01, -1.14957809e+00],\n",
       "       [-6.10744579e-01, -1.27587049e+00],\n",
       "       [-6.49293931e-01, -1.03572192e+00],\n",
       "       [-3.40803600e-01, -1.51192169e+00],\n",
       "       [-1.72701154e-01, -1.51253821e+00],\n",
       "       [-4.84607867e-01, -1.47458253e+00],\n",
       "       [-6.55394199e-01, -1.14596153e+00],\n",
       "       [-5.98286559e-01, -1.25462433e+00],\n",
       "       [ 5.36090763e-01, -2.25524541e+00],\n",
       "       [-4.89961806e-01, -1.09074463e+00],\n",
       "       [-4.30487587e-01, -1.39143473e+00],\n",
       "       [-5.36143612e-01, -1.04453376e+00],\n",
       "       [-5.45990489e-01, -1.21785948e+00],\n",
       "       [-4.78580536e-01, -1.30591726e+00],\n",
       "       [-1.37599832e+00,  1.03323107e-01],\n",
       "       [-5.59085961e-01, -1.13730864e+00],\n",
       "       [-5.88821632e-01, -8.52865299e-01],\n",
       "       [-3.71466163e-01, -1.18029837e+00],\n",
       "       [-5.21493447e-01, -1.24574579e+00],\n",
       "       [-5.95515892e-01, -2.67204276e-01],\n",
       "       [-1.22318912e+00,  1.19754822e-01],\n",
       "       [-1.25494314e+00, -3.72141725e-01],\n",
       "       [-2.59171411e-01, -9.75160490e-01],\n",
       "       [-3.88623923e-01, -3.95189429e-01],\n",
       "       [-5.94926044e-01, -5.17200687e-01],\n",
       "       [-4.50007832e-01, -3.98588686e-01],\n",
       "       [-1.18330558e+00,  1.67670841e-01],\n",
       "       [-1.62382782e+00,  3.75078391e+00],\n",
       "       [-9.02211046e-01,  2.46583984e+00],\n",
       "       [-7.83955649e-01,  3.84878659e+00],\n",
       "       [ 9.35211111e-01,  6.44799056e+00],\n",
       "       [-1.81983414e+00,  7.98068170e+00],\n",
       "       [ 1.33027964e-01,  2.58832206e+00],\n",
       "       [ 4.22475885e-02,  1.10694110e+00],\n",
       "       [-1.34594596e+00,  4.79856536e+00],\n",
       "       [-1.48832669e+00,  5.12633473e+00],\n",
       "       [-1.07383734e+00,  5.23709504e+00],\n",
       "       [-8.10482108e-01, -3.13726691e-01],\n",
       "       [-8.50467578e-01, -4.36201450e-01],\n",
       "       [-6.08708784e-01, -4.87693060e-01],\n",
       "       [-7.19769089e-01, -4.06342460e-01],\n",
       "       [-4.43427527e-03, -1.00025420e+00],\n",
       "       [-6.38500574e-01, -6.98910053e-01],\n",
       "       [-2.12495546e-01, -1.06227619e+00],\n",
       "       [-6.00419603e-01, -4.20659192e-01],\n",
       "       [-5.06162950e-01, -9.36673241e-01],\n",
       "       [-2.77639364e-01, -1.00511885e+00],\n",
       "       [-2.51841484e-02, -1.00388447e+00],\n",
       "       [-8.27740357e-01,  2.57186344e-01],\n",
       "       [-6.18222892e-01, -2.35534833e-01],\n",
       "       [-5.58467577e-01, -7.22871608e-01],\n",
       "       [-2.90917413e-01,  1.26621987e+00],\n",
       "       [ 1.06617063e-01,  1.06079859e+00],\n",
       "       [ 1.66209952e-01,  1.68717708e+00],\n",
       "       [ 1.39592336e-01,  2.07575432e+00],\n",
       "       [-1.15890492e-01,  4.59950159e+00],\n",
       "       [-5.85373766e-01, -6.07098073e-01],\n",
       "       [-4.38296281e-01, -3.05273927e-01],\n",
       "       [-4.87697515e-01, -6.83058948e-01],\n",
       "       [-8.89474687e-01, -1.37680384e-01],\n",
       "       [-8.27162902e-01, -4.67205060e-01],\n",
       "       [-2.41532733e-01, -1.01006393e+00],\n",
       "       [-1.95717948e-01, -1.28823194e+00],\n",
       "       [-1.21618361e-01, -1.21510149e+00],\n",
       "       [-4.23180143e-02, -9.53945697e-01],\n",
       "       [-7.23221746e-01, -1.79589249e-01],\n",
       "       [-5.19840218e-01, -7.17424111e-01],\n",
       "       [ 2.56127218e-02, -9.59920896e-01],\n",
       "       [-5.87702514e-01, -3.14189122e-01],\n",
       "       [-1.01041390e+00,  1.39365768e-01],\n",
       "       [-1.26560859e-01, -2.64572922e-01],\n",
       "       [ 7.71220879e-02, -8.73283798e-01],\n",
       "       [-7.88369281e-02, -6.13909189e-01],\n",
       "       [-3.09593925e-01, -7.39564151e-01],\n",
       "       [ 1.24198408e-01, -5.99207354e-01],\n",
       "       [-4.78190720e-01,  1.30082131e+00],\n",
       "       [-4.33486799e-01,  2.36322982e-03],\n",
       "       [ 9.96073866e-02, -8.24346530e-01],\n",
       "       [-1.37916337e-01, -4.76267446e-01],\n",
       "       [ 1.23375226e-02, -7.10481264e-01],\n",
       "       [ 1.22738901e-01, -5.61572901e-01],\n",
       "       [-6.58941056e-01,  1.35051508e+00],\n",
       "       [ 2.35111892e-01, -1.73836761e-01],\n",
       "       [ 2.00289180e-01, -3.86966419e-03],\n",
       "       [ 1.88084842e-01,  1.72559656e-02],\n",
       "       [-5.46542320e-01,  6.83060190e-01],\n",
       "       [-8.27115451e-01,  1.73708733e+00],\n",
       "       [ 4.30174326e+00, -1.74025670e+00],\n",
       "       [ 1.10988551e+00,  7.42524294e-01],\n",
       "       [ 3.03625859e-01,  1.95209561e+00],\n",
       "       [ 2.36347751e-01,  1.82633959e+00],\n",
       "       [ 1.46711642e+00,  1.63665621e+00],\n",
       "       [ 1.92879408e+00,  1.14125287e-01],\n",
       "       [ 1.71425256e+00,  1.73550812e+00],\n",
       "       [ 1.33751550e+00,  3.24224226e+00],\n",
       "       [ 3.11328937e+00, -3.34892111e+00],\n",
       "       [ 3.11901864e+00, -3.41504593e+00],\n",
       "       [ 1.34963521e+00,  2.76562758e+00],\n",
       "       [ 9.89262760e-01,  1.56989120e+00],\n",
       "       [ 9.94892537e-01,  2.35717406e+00],\n",
       "       [ 1.46459270e+00,  8.42962391e-01],\n",
       "       [ 1.12546129e+00,  9.89205580e-01],\n",
       "       [ 1.77794145e+00,  5.50443160e-01],\n",
       "       [ 1.71553390e+00,  5.42440200e-01],\n",
       "       [ 2.39110386e+00, -1.78450289e+00],\n",
       "       [ 2.43918448e+00,  1.14444725e+00],\n",
       "       [ 2.60926915e+00,  1.59697218e+00],\n",
       "       [ 1.62616358e+00,  2.07438401e+00],\n",
       "       [ 3.24599512e+00, -2.24279035e+00],\n",
       "       [ 3.14706077e+00, -3.26967361e+00],\n",
       "       [ 3.46679811e+00, -1.19048738e+00],\n",
       "       [ 9.25472688e-01,  1.09177760e+00],\n",
       "       [ 2.17027375e+00,  1.87406769e+00],\n",
       "       [ 3.24222824e+00,  2.29414559e+00],\n",
       "       [ 2.90644023e+00, -1.12248621e-01],\n",
       "       [ 4.02471648e+00,  4.26981287e-02],\n",
       "       [ 3.94112312e+00, -1.06755688e-02],\n",
       "       [ 4.34276349e+00,  5.37564030e-01],\n",
       "       [ 4.31038166e+00,  3.76135990e-01],\n",
       "       [ 4.08902247e+00, -1.12545877e-01],\n",
       "       [ 4.05522522e+00,  1.27351230e-01],\n",
       "       [ 4.03934954e+00,  2.97654481e-01],\n",
       "       [ 4.23668505e+00, -7.71942417e-02],\n",
       "       [ 4.23827496e+00, -1.66343227e-02],\n",
       "       [ 4.28028597e+00, -4.55349213e-01],\n",
       "       [ 2.08912020e+00, -1.18628080e+00],\n",
       "       [ 4.28555090e+00, -5.42331031e-01],\n",
       "       [ 4.65593061e+00,  2.28577807e-01],\n",
       "       [ 4.19522130e+00, -2.63679751e-05],\n",
       "       [ 4.40013009e+00,  5.84725279e-01],\n",
       "       [ 4.38510546e+00,  3.51638156e-01],\n",
       "       [ 5.28723662e+00, -4.17294682e-01],\n",
       "       [ 4.19823111e+00,  3.71809782e-01],\n",
       "       [ 4.60795323e+00,  3.25086199e-01],\n",
       "       [ 4.63758858e+00,  3.37858574e-01],\n",
       "       [ 4.35968593e+00,  1.01019036e+00],\n",
       "       [ 4.47817366e+00,  1.66917419e-01],\n",
       "       [ 4.55257284e+00,  4.07696907e-01]])"
      ]
     },
     "execution_count": 50,
     "metadata": {},
     "output_type": "execute_result"
    }
   ],
   "source": [
    "pca.fit_transform(df2)"
   ]
  },
  {
   "cell_type": "code",
   "execution_count": 51,
   "id": "84b8c554",
   "metadata": {},
   "outputs": [],
   "source": [
    "pca=PCA()"
   ]
  },
  {
   "cell_type": "code",
   "execution_count": 52,
   "id": "1b5a3bdb",
   "metadata": {},
   "outputs": [],
   "source": [
    "principal_component=pca.fit_transform(df2)"
   ]
  },
  {
   "cell_type": "code",
   "execution_count": 53,
   "id": "1df9726b",
   "metadata": {},
   "outputs": [
    {
     "data": {
      "text/plain": [
       "array([0.33333145, 0.54739615, 0.6755574 , 0.7824441 , 0.86560821,\n",
       "       0.92079885, 0.95446391, 0.98741061, 0.9950422 , 0.99985724,\n",
       "       1.        ])"
      ]
     },
     "execution_count": 53,
     "metadata": {},
     "output_type": "execute_result"
    }
   ],
   "source": [
    "evr=np.cumsum(pca.explained_variance_ratio_)\n",
    "evr"
   ]
  },
  {
   "cell_type": "code",
   "execution_count": 54,
   "id": "de46e6c2",
   "metadata": {},
   "outputs": [],
   "source": [
    "import matplotlib.pyplot as plt\n",
    "%matplotlib inline"
   ]
  },
  {
   "cell_type": "code",
   "execution_count": 55,
   "id": "fbecc1a1",
   "metadata": {},
   "outputs": [
    {
     "data": {
      "text/plain": [
       "Text(0.5, 0, 'Explained Variance Ratio')"
      ]
     },
     "execution_count": 55,
     "metadata": {},
     "output_type": "execute_result"
    },
    {
     "data": {
      "image/png": "[encoded data removed]",
      "text/plain": [
       "<Figure size 432x288 with 1 Axes>"
      ]
     },
     "metadata": {
      "needs_background": "light"
     },
     "output_type": "display_data"
    }
   ],
   "source": [
    "plt.figure()\n",
    "plt.plot(evr)\n",
    "plt.title(\"Screen Plot\")\n",
    "plt.xlabel(\"Explained Variance Ratio\")"
   ]
  },
  {
   "cell_type": "code",
   "execution_count": null,
   "id": "99bc5023",
   "metadata": {},
   "outputs": [],
   "source": []
  },
  {
   "cell_type": "code",
   "execution_count": null,
   "id": "4b124217",
   "metadata": {},
   "outputs": [],
   "source": []
  },
  {
   "cell_type": "code",
   "execution_count": null,
   "id": "fd520004",
   "metadata": {},
   "outputs": [],
   "source": []
  },
  {
   "cell_type": "code",
   "execution_count": null,
   "id": "dd60860b",
   "metadata": {},
   "outputs": [],
   "source": []
  }
 ],
 "metadata": {
  "kernelspec": {
   "display_name": "Python 3 (ipykernel)",
   "language": "python",
   "name": "python3"
  },
  "language_info": {
   "codemirror_mode": {
    "name": "ipython",
    "version": 3
   },
   "file_extension": ".py",
   "mimetype": "text/x-python",
   "name": "python",
   "nbconvert_exporter": "python",
   "pygments_lexer": "ipython3",
   "version": "3.9.12"
  }
 },
 "nbformat": 4,
 "nbformat_minor": 5
}
